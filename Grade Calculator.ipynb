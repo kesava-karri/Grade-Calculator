{
 "cells": [
  {
   "cell_type": "markdown",
   "id": "ebef1086",
   "metadata": {},
   "source": [
    "### Grade Calculator - Wright State [Also Calculate your future GPA]"
   ]
  },
  {
   "cell_type": "code",
   "execution_count": 49,
   "id": "b363f075",
   "metadata": {},
   "outputs": [
    {
     "name": "stdout",
     "output_type": "stream",
     "text": [
      "Enter number of Credits and Subjects you've taken for grade A: 35\n",
      "Enter number of Credits for grade B: 33\n",
      "Enter number of Credits for grade C: 31\n",
      "Enter number of Credits for grade D: 00\n"
     ]
    }
   ],
   "source": [
    "# Number of Credits\n",
    "A_numOfCredits, A_numOfSubjects = input(\"Enter number of Credits and Subjects you've taken for grade A: \")\n",
    "B_numOfCredits, B_numOfSubjects = input(\"Enter number of Credits for grade B: \")\n",
    "C_numOfCredits, C_numOfSubjects = input(\"Enter number of Credits for grade C: \")\n",
    "D_numOfCredits, D_numOfSubjects = input(\"Enter number of Credits for grade D: \")"
   ]
  },
  {
   "cell_type": "code",
   "execution_count": 50,
   "id": "9f235718",
   "metadata": {},
   "outputs": [],
   "source": [
    "A_numOfCredits = int(A_numOfCredits)\n",
    "B_numOfCredits = int(B_numOfCredits)\n",
    "C_numOfCredits = int(C_numOfCredits)\n",
    "D_numOfCredits = int(D_numOfCredits)\n",
    "A_numOfSubjects = int(A_numOfSubjects)\n",
    "B_numOfSubjects = int(B_numOfSubjects)\n",
    "C_numOfSubjects = int(C_numOfSubjects)\n",
    "D_numOfSubjects = int(D_numOfSubjects)"
   ]
  },
  {
   "cell_type": "code",
   "execution_count": 51,
   "id": "c0c13144",
   "metadata": {},
   "outputs": [],
   "source": [
    "total_completed_credits = A_numOfCredits * A_numOfSubjects + B_numOfCredits * B_numOfSubjects + C_numOfCredits * C_numOfSubjects + D_numOfCredits * D_numOfSubjects"
   ]
  },
  {
   "cell_type": "code",
   "execution_count": 52,
   "id": "70e5f7ee",
   "metadata": {},
   "outputs": [
    {
     "data": {
      "text/plain": [
       "27"
      ]
     },
     "execution_count": 52,
     "metadata": {},
     "output_type": "execute_result"
    }
   ],
   "source": [
    "total_completed_credits"
   ]
  },
  {
   "cell_type": "code",
   "execution_count": 53,
   "id": "960c384c",
   "metadata": {},
   "outputs": [],
   "source": [
    "CGPA = ((int(A_numOfCredits) * 4 * int(A_numOfSubjects))+(int(B_numOfCredits) * 3 * int(B_numOfSubjects))+(int(C_numOfCredits) * 2 * int(C_numOfSubjects))+(int(D_numOfCredits) * 1 * int(D_numOfSubjects)))/total_completed_credits"
   ]
  },
  {
   "cell_type": "code",
   "execution_count": 55,
   "id": "8b52591a",
   "metadata": {},
   "outputs": [
    {
     "data": {
      "text/plain": [
       "3.44"
      ]
     },
     "execution_count": 55,
     "metadata": {},
     "output_type": "execute_result"
    }
   ],
   "source": [
    "round(CGPA, 2)"
   ]
  }
 ],
 "metadata": {
  "kernelspec": {
   "display_name": "Python 3 (ipykernel)",
   "language": "python",
   "name": "python3"
  },
  "language_info": {
   "codemirror_mode": {
    "name": "ipython",
    "version": 3
   },
   "file_extension": ".py",
   "mimetype": "text/x-python",
   "name": "python",
   "nbconvert_exporter": "python",
   "pygments_lexer": "ipython3",
   "version": "3.8.10"
  }
 },
 "nbformat": 4,
 "nbformat_minor": 5
}
